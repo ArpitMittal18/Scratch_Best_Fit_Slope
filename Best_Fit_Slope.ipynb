{
 "cells": [
  {
   "cell_type": "code",
   "execution_count": 38,
   "id": "4dbf2ddf",
   "metadata": {},
   "outputs": [],
   "source": [
    "from statistics import mean\n",
    "import numpy as np\n",
    "import matplotlib.pyplot as plt\n",
    "from matplotlib import style\n",
    "import random \n",
    "style.use('fivethirtyeight')\n"
   ]
  },
  {
   "cell_type": "code",
   "execution_count": 39,
   "id": "926de8c9",
   "metadata": {},
   "outputs": [],
   "source": [
    "xs = np.array([1,2,3,4,5,6] ,dtype=np.float64)\n",
    "ys = np.array([5,4,6,5,6,7] ,dtype=np.float64)"
   ]
  },
  {
   "cell_type": "code",
   "execution_count": 80,
   "id": "c14cada5",
   "metadata": {},
   "outputs": [],
   "source": [
    "def create_dataset(hm, variance, step=2, correlation=False):\n",
    "    val=1\n",
    "    ys = []\n",
    "    for i in range(hm):\n",
    "        y = val + random.randrange(-variance, variance)\n",
    "        ys.append(y)\n",
    "        if correlation and correlation == 'pos':\n",
    "            val+=step\n",
    "        elif correlation and correlation =='neg':\n",
    "            val=step\n",
    "        xs = [i for i in range(len(ys))]\n",
    "    return np.array(xs, dtype=np.float64), np.array(ys, dtype=np.float64)"
   ]
  },
  {
   "cell_type": "code",
   "execution_count": 102,
   "id": "3741836d",
   "metadata": {},
   "outputs": [
    {
     "data": {
      "image/png": "[encoded data removed]",
      "text/plain": [
       "<Figure size 432x288 with 1 Axes>"
      ]
     },
     "metadata": {},
     "output_type": "display_data"
    }
   ],
   "source": [
    "plt.scatter(xs,ys)\n",
    "plt.show()\n",
    "\n"
   ]
  },
  {
   "cell_type": "code",
   "execution_count": 103,
   "id": "3d523e03",
   "metadata": {},
   "outputs": [],
   "source": [
    "def best_fit_slope_and_y_intercept(xs,xy):\n",
    "    m = ((mean(xs)*mean(ys)-mean(xs*ys)) / \n",
    "         ((mean(xs)*mean(xs))-mean(xs*xs)))\n",
    "    b = mean(ys)-m*mean(xs)\n",
    "    return m,b"
   ]
  },
  {
   "cell_type": "code",
   "execution_count": 104,
   "id": "e4d58eba",
   "metadata": {},
   "outputs": [],
   "source": [
    "def squareed_error(ys_origi, ys_line):\n",
    "    \n",
    "    return sum((ys_line-ys_origi)**2)"
   ]
  },
  {
   "cell_type": "code",
   "execution_count": 105,
   "id": "17f2afe2",
   "metadata": {},
   "outputs": [],
   "source": [
    "def coefficient_of_determination(ys_origi,ys_line):\n",
    "    y_mean_line = [mean(ys_origi) for y in ys_origi]\n",
    "    squared_error_regr = squareed_error(ys_origi, ys_line)\n",
    "    squared_error_y_mean = squareed_error(ys_origi, y_mean_line)\n",
    "    return 1-(squared_error_regr/squared_error_y_mean)"
   ]
  },
  {
   "cell_type": "code",
   "execution_count": 122,
   "id": "2d7fd4da",
   "metadata": {},
   "outputs": [],
   "source": [
    "xs, ys = create_dataset(40,10, 2, correlation='pos')"
   ]
  },
  {
   "cell_type": "code",
   "execution_count": 123,
   "id": "b824434c",
   "metadata": {},
   "outputs": [],
   "source": [
    "m,b = best_fit_slope_and_y_intercept(xs,ys)\n"
   ]
  },
  {
   "cell_type": "code",
   "execution_count": 124,
   "id": "36881fb0",
   "metadata": {},
   "outputs": [
    {
     "name": "stdout",
     "output_type": "stream",
     "text": [
      "1.9740150093808642 0.781707317073149\n"
     ]
    }
   ],
   "source": [
    "print(m,b)"
   ]
  },
  {
   "cell_type": "code",
   "execution_count": 125,
   "id": "18bd2e28",
   "metadata": {},
   "outputs": [],
   "source": [
    "regression_line = [(m*x+b) for x in xs]"
   ]
  },
  {
   "cell_type": "code",
   "execution_count": 126,
   "id": "16a0a75f",
   "metadata": {},
   "outputs": [],
   "source": [
    "predict_x = 8\n",
    "predict_y = m*predict_x+b"
   ]
  },
  {
   "cell_type": "code",
   "execution_count": 127,
   "id": "d0b1a450",
   "metadata": {},
   "outputs": [],
   "source": [
    "r_squared = coefficient_of_determination(ys,regression_line)"
   ]
  },
  {
   "cell_type": "code",
   "execution_count": 128,
   "id": "b19a6b4b",
   "metadata": {},
   "outputs": [
    {
     "data": {
      "image/png": "[encoded data removed]",
      "text/plain": [
       "<Figure size 432x288 with 1 Axes>"
      ]
     },
     "metadata": {},
     "output_type": "display_data"
    }
   ],
   "source": [
    "plt.scatter(xs,ys)\n",
    "plt.scatter(predict_x, predict_y, marker='*')\n",
    "plt.plot(xs,regression_line)\n",
    "plt.show()"
   ]
  },
  {
   "cell_type": "code",
   "execution_count": 121,
   "id": "14cb6f59",
   "metadata": {},
   "outputs": [
    {
     "name": "stdout",
     "output_type": "stream",
     "text": [
      "0.08412043514032119\n"
     ]
    }
   ],
   "source": [
    "print(r_squared)"
   ]
  },
  {
   "cell_type": "code",
   "execution_count": null,
   "id": "e158d927",
   "metadata": {},
   "outputs": [],
   "source": []
  },
  {
   "cell_type": "code",
   "execution_count": null,
   "id": "6fff8b73",
   "metadata": {},
   "outputs": [],
   "source": []
  }
 ],
 "metadata": {
  "kernelspec": {
   "display_name": "Python 3",
   "language": "python",
   "name": "python3"
  },
  "language_info": {
   "codemirror_mode": {
    "name": "ipython",
    "version": 3
   },
   "file_extension": ".py",
   "mimetype": "text/x-python",
   "name": "python",
   "nbconvert_exporter": "python",
   "pygments_lexer": "ipython3",
   "version": "3.7.9"
  }
 },
 "nbformat": 4,
 "nbformat_minor": 5
}
